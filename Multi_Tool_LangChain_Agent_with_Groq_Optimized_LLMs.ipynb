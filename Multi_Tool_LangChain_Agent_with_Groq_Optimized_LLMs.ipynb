{
  "nbformat": 4,
  "nbformat_minor": 0,
  "metadata": {
    "colab": {
      "provenance": [],
      "authorship_tag": "ABX9TyP5nC7AOuBosEYEGqQBFUIE",
      "include_colab_link": true
    },
    "kernelspec": {
      "name": "python3",
      "display_name": "Python 3"
    },
    "language_info": {
      "name": "python"
    }
  },
  "cells": [
    {
      "cell_type": "markdown",
      "metadata": {
        "id": "view-in-github",
        "colab_type": "text"
      },
      "source": [
        "<a href=\"https://colab.research.google.com/github/majdsuleiman98/Multi-Tool-LangChain-Agent-with-Groq-Optimized-LLMs/blob/main/Multi_Tool_LangChain_Agent_with_Groq_Optimized_LLMs.ipynb\" target=\"_parent\"><img src=\"https://colab.research.google.com/assets/colab-badge.svg\" alt=\"Open In Colab\"/></a>"
      ]
    },
    {
      "cell_type": "code",
      "source": [
        "!pip install langchain langchain-community wikipedia langchain_groq python-dotenv"
      ],
      "metadata": {
        "colab": {
          "base_uri": "https://localhost:8080/"
        },
        "collapsed": true,
        "id": "igu0EzAESk5P",
        "outputId": "f44d087e-64e3-4659-a032-01bca45a9bd3"
      },
      "execution_count": 89,
      "outputs": [
        {
          "output_type": "stream",
          "name": "stdout",
          "text": [
            "Requirement already satisfied: langchain in /usr/local/lib/python3.10/dist-packages (0.3.7)\n",
            "Requirement already satisfied: langchain-community in /usr/local/lib/python3.10/dist-packages (0.3.7)\n",
            "Requirement already satisfied: wikipedia in /usr/local/lib/python3.10/dist-packages (1.4.0)\n",
            "Requirement already satisfied: langchain_groq in /usr/local/lib/python3.10/dist-packages (0.2.1)\n",
            "Requirement already satisfied: python-dotenv in /usr/local/lib/python3.10/dist-packages (1.0.1)\n",
            "Requirement already satisfied: PyYAML>=5.3 in /usr/local/lib/python3.10/dist-packages (from langchain) (6.0.2)\n",
            "Requirement already satisfied: SQLAlchemy<3,>=1.4 in /usr/local/lib/python3.10/dist-packages (from langchain) (2.0.35)\n",
            "Requirement already satisfied: aiohttp<4.0.0,>=3.8.3 in /usr/local/lib/python3.10/dist-packages (from langchain) (3.10.10)\n",
            "Requirement already satisfied: async-timeout<5.0.0,>=4.0.0 in /usr/local/lib/python3.10/dist-packages (from langchain) (4.0.3)\n",
            "Requirement already satisfied: langchain-core<0.4.0,>=0.3.15 in /usr/local/lib/python3.10/dist-packages (from langchain) (0.3.17)\n",
            "Requirement already satisfied: langchain-text-splitters<0.4.0,>=0.3.0 in /usr/local/lib/python3.10/dist-packages (from langchain) (0.3.2)\n",
            "Requirement already satisfied: langsmith<0.2.0,>=0.1.17 in /usr/local/lib/python3.10/dist-packages (from langchain) (0.1.142)\n",
            "Requirement already satisfied: numpy<2,>=1 in /usr/local/lib/python3.10/dist-packages (from langchain) (1.26.4)\n",
            "Requirement already satisfied: pydantic<3.0.0,>=2.7.4 in /usr/local/lib/python3.10/dist-packages (from langchain) (2.9.2)\n",
            "Requirement already satisfied: requests<3,>=2 in /usr/local/lib/python3.10/dist-packages (from langchain) (2.32.3)\n",
            "Requirement already satisfied: tenacity!=8.4.0,<10,>=8.1.0 in /usr/local/lib/python3.10/dist-packages (from langchain) (9.0.0)\n",
            "Requirement already satisfied: dataclasses-json<0.7,>=0.5.7 in /usr/local/lib/python3.10/dist-packages (from langchain-community) (0.6.7)\n",
            "Requirement already satisfied: httpx-sse<0.5.0,>=0.4.0 in /usr/local/lib/python3.10/dist-packages (from langchain-community) (0.4.0)\n",
            "Requirement already satisfied: pydantic-settings<3.0.0,>=2.4.0 in /usr/local/lib/python3.10/dist-packages (from langchain-community) (2.6.1)\n",
            "Requirement already satisfied: beautifulsoup4 in /usr/local/lib/python3.10/dist-packages (from wikipedia) (4.12.3)\n",
            "Requirement already satisfied: groq<1,>=0.4.1 in /usr/local/lib/python3.10/dist-packages (from langchain_groq) (0.12.0)\n",
            "Requirement already satisfied: aiohappyeyeballs>=2.3.0 in /usr/local/lib/python3.10/dist-packages (from aiohttp<4.0.0,>=3.8.3->langchain) (2.4.3)\n",
            "Requirement already satisfied: aiosignal>=1.1.2 in /usr/local/lib/python3.10/dist-packages (from aiohttp<4.0.0,>=3.8.3->langchain) (1.3.1)\n",
            "Requirement already satisfied: attrs>=17.3.0 in /usr/local/lib/python3.10/dist-packages (from aiohttp<4.0.0,>=3.8.3->langchain) (24.2.0)\n",
            "Requirement already satisfied: frozenlist>=1.1.1 in /usr/local/lib/python3.10/dist-packages (from aiohttp<4.0.0,>=3.8.3->langchain) (1.5.0)\n",
            "Requirement already satisfied: multidict<7.0,>=4.5 in /usr/local/lib/python3.10/dist-packages (from aiohttp<4.0.0,>=3.8.3->langchain) (6.1.0)\n",
            "Requirement already satisfied: yarl<2.0,>=1.12.0 in /usr/local/lib/python3.10/dist-packages (from aiohttp<4.0.0,>=3.8.3->langchain) (1.17.1)\n",
            "Requirement already satisfied: marshmallow<4.0.0,>=3.18.0 in /usr/local/lib/python3.10/dist-packages (from dataclasses-json<0.7,>=0.5.7->langchain-community) (3.23.1)\n",
            "Requirement already satisfied: typing-inspect<1,>=0.4.0 in /usr/local/lib/python3.10/dist-packages (from dataclasses-json<0.7,>=0.5.7->langchain-community) (0.9.0)\n",
            "Requirement already satisfied: anyio<5,>=3.5.0 in /usr/local/lib/python3.10/dist-packages (from groq<1,>=0.4.1->langchain_groq) (3.7.1)\n",
            "Requirement already satisfied: distro<2,>=1.7.0 in /usr/local/lib/python3.10/dist-packages (from groq<1,>=0.4.1->langchain_groq) (1.9.0)\n",
            "Requirement already satisfied: httpx<1,>=0.23.0 in /usr/local/lib/python3.10/dist-packages (from groq<1,>=0.4.1->langchain_groq) (0.27.2)\n",
            "Requirement already satisfied: sniffio in /usr/local/lib/python3.10/dist-packages (from groq<1,>=0.4.1->langchain_groq) (1.3.1)\n",
            "Requirement already satisfied: typing-extensions<5,>=4.7 in /usr/local/lib/python3.10/dist-packages (from groq<1,>=0.4.1->langchain_groq) (4.12.2)\n",
            "Requirement already satisfied: jsonpatch<2.0,>=1.33 in /usr/local/lib/python3.10/dist-packages (from langchain-core<0.4.0,>=0.3.15->langchain) (1.33)\n",
            "Requirement already satisfied: packaging<25,>=23.2 in /usr/local/lib/python3.10/dist-packages (from langchain-core<0.4.0,>=0.3.15->langchain) (24.2)\n",
            "Requirement already satisfied: orjson<4.0.0,>=3.9.14 in /usr/local/lib/python3.10/dist-packages (from langsmith<0.2.0,>=0.1.17->langchain) (3.10.11)\n",
            "Requirement already satisfied: requests-toolbelt<2.0.0,>=1.0.0 in /usr/local/lib/python3.10/dist-packages (from langsmith<0.2.0,>=0.1.17->langchain) (1.0.0)\n",
            "Requirement already satisfied: annotated-types>=0.6.0 in /usr/local/lib/python3.10/dist-packages (from pydantic<3.0.0,>=2.7.4->langchain) (0.7.0)\n",
            "Requirement already satisfied: pydantic-core==2.23.4 in /usr/local/lib/python3.10/dist-packages (from pydantic<3.0.0,>=2.7.4->langchain) (2.23.4)\n",
            "Requirement already satisfied: charset-normalizer<4,>=2 in /usr/local/lib/python3.10/dist-packages (from requests<3,>=2->langchain) (3.4.0)\n",
            "Requirement already satisfied: idna<4,>=2.5 in /usr/local/lib/python3.10/dist-packages (from requests<3,>=2->langchain) (3.10)\n",
            "Requirement already satisfied: urllib3<3,>=1.21.1 in /usr/local/lib/python3.10/dist-packages (from requests<3,>=2->langchain) (2.2.3)\n",
            "Requirement already satisfied: certifi>=2017.4.17 in /usr/local/lib/python3.10/dist-packages (from requests<3,>=2->langchain) (2024.8.30)\n",
            "Requirement already satisfied: greenlet!=0.4.17 in /usr/local/lib/python3.10/dist-packages (from SQLAlchemy<3,>=1.4->langchain) (3.1.1)\n",
            "Requirement already satisfied: soupsieve>1.2 in /usr/local/lib/python3.10/dist-packages (from beautifulsoup4->wikipedia) (2.6)\n",
            "Requirement already satisfied: exceptiongroup in /usr/local/lib/python3.10/dist-packages (from anyio<5,>=3.5.0->groq<1,>=0.4.1->langchain_groq) (1.2.2)\n",
            "Requirement already satisfied: httpcore==1.* in /usr/local/lib/python3.10/dist-packages (from httpx<1,>=0.23.0->groq<1,>=0.4.1->langchain_groq) (1.0.6)\n",
            "Requirement already satisfied: h11<0.15,>=0.13 in /usr/local/lib/python3.10/dist-packages (from httpcore==1.*->httpx<1,>=0.23.0->groq<1,>=0.4.1->langchain_groq) (0.14.0)\n",
            "Requirement already satisfied: jsonpointer>=1.9 in /usr/local/lib/python3.10/dist-packages (from jsonpatch<2.0,>=1.33->langchain-core<0.4.0,>=0.3.15->langchain) (3.0.0)\n",
            "Requirement already satisfied: mypy-extensions>=0.3.0 in /usr/local/lib/python3.10/dist-packages (from typing-inspect<1,>=0.4.0->dataclasses-json<0.7,>=0.5.7->langchain-community) (1.0.0)\n",
            "Requirement already satisfied: propcache>=0.2.0 in /usr/local/lib/python3.10/dist-packages (from yarl<2.0,>=1.12.0->aiohttp<4.0.0,>=3.8.3->langchain) (0.2.0)\n"
          ]
        }
      ]
    },
    {
      "cell_type": "code",
      "execution_count": 153,
      "metadata": {
        "colab": {
          "base_uri": "https://localhost:8080/"
        },
        "id": "40liHgA-P2Hn",
        "outputId": "0aecda4a-a196-4b27-f8b5-2266f31f5280"
      },
      "outputs": [
        {
          "output_type": "execute_result",
          "data": {
            "text/plain": [
              "True"
            ]
          },
          "metadata": {},
          "execution_count": 153
        }
      ],
      "source": [
        "from langchain.agents import Tool, AgentExecutor, create_react_agent\n",
        "from langchain.document_loaders import WikipediaLoader\n",
        "from langchain import hub\n",
        "from langchain_groq import ChatGroq\n",
        "from dotenv import load_dotenv\n",
        "import os\n",
        "load_dotenv()"
      ]
    },
    {
      "cell_type": "code",
      "source": [
        "def get_date_today(input : str=None) -> str:\n",
        "    from datetime import date\n",
        "    return f\"\\n{date.today()}\\n\"\n",
        "\n",
        "get_today_date_tool = Tool(\n",
        "    name=\"Get date today\",\n",
        "    func=get_date_today,\n",
        "    description=\"Useful for getting today's date\"\n",
        ")"
      ],
      "metadata": {
        "id": "C3fySC07QbY-"
      },
      "execution_count": 154,
      "outputs": []
    },
    {
      "cell_type": "code",
      "source": [
        "def parse_query(input_text: str) -> str:\n",
        "    keywords = {\n",
        "        \"name\": \"first_name\",\n",
        "        \"last name\": \"last_name\",\n",
        "        \"email\": \"email\",\n",
        "        \"age\": \"age\",\n",
        "        \"role\": \"role\",\n",
        "        \"address\": \"address\"\n",
        "    }\n",
        "    for key, value in keywords.items():\n",
        "        if key in input_text.lower():\n",
        "            return value\n",
        "    return None\n",
        "\n",
        "def get_person_query(input_text: str) -> str:\n",
        "    person_database = {\n",
        "        \"first_name\": \"jhon\",\n",
        "        \"last_name\": \"wick\",\n",
        "        \"email\": \"jhon@gmail.com\",\n",
        "        \"age\": \"40\",\n",
        "        \"role\": \"admin\",\n",
        "        \"address\": \"New York\"\n",
        "    }\n",
        "    query = parse_query(input_text)\n",
        "    if query and query in person_database:\n",
        "        return f\"\\n{query.capitalize()}: {person_database[query]}\\n\"\n",
        "    return f\"\\nError: Could not understand the query or query not found in the database.\\n\"\n",
        "\n",
        "\n",
        "get_person_query_tool = Tool(\n",
        "    name=\"Get Person Query\",\n",
        "    func=get_person_query,\n",
        "    description=\"Retrieve specific information about a person from the database. Provide a natural language query like 'What is my age?' or 'What is my address?'.\"\n",
        ")"
      ],
      "metadata": {
        "id": "paVNwCViQbeW"
      },
      "execution_count": 156,
      "outputs": []
    },
    {
      "cell_type": "code",
      "source": [
        "def search_wikipedia(query: str) -> str:\n",
        "    page = WikipediaLoader(query=query, load_max_docs=1).load()\n",
        "    if page:\n",
        "      summary = page[0].metadata[\"summary\"]\n",
        "      return f\"\\n{summary}\\n\"\n",
        "    else:\n",
        "      return \"\\nInvalid query\\n\"\n",
        "\n",
        "search_wikipedia_tool = Tool(\n",
        "    name=\"Search Wikipedia\",\n",
        "    func=search_wikipedia,\n",
        "    description=\"Search Wikipedia for information. Provide a query, and it will return a summary of the Wikipedia page if found.\"\n",
        ")"
      ],
      "metadata": {
        "id": "1ffTigXYQbjK"
      },
      "execution_count": 157,
      "outputs": []
    },
    {
      "cell_type": "code",
      "source": [
        "def math_calculator(expression : str) -> str:\n",
        "    try:\n",
        "        result = eval(expression)\n",
        "        return f\"\\n{result}\\n\"\n",
        "    except Exception as e:\n",
        "        return f\"\\nError: {e}\\n\"\n",
        "\n",
        "math_calculator_tool = Tool(\n",
        "    name=\"Math Calculator\",\n",
        "    func=math_calculator,\n",
        "    description=\"Evaluates mathematical expressions. You can use basic operators such as +, -, *, % and /.\"\n",
        ")"
      ],
      "metadata": {
        "id": "77CjTPKEZEx6"
      },
      "execution_count": 158,
      "outputs": []
    },
    {
      "cell_type": "code",
      "source": [
        "def summerize_text(text: str) -> str:\n",
        "    try:\n",
        "      from transformers import pipeline\n",
        "      summarizer = pipeline(\"summarization\", model=\"facebook/bart-large-cnn\")\n",
        "      summary = summarizer(text, do_sample=False)[0]['summary_text']\n",
        "      return f\"\\n{summary}\\n\"\n",
        "    except Exception as e:\n",
        "        return \"No text to summerize\"\n",
        "\n",
        "summerize_text_tool = Tool(\n",
        "    name=\"Summerize Text\",\n",
        "    func=summerize_text,\n",
        "    description=\"Useful for getting summarized long text\"\n",
        ")"
      ],
      "metadata": {
        "id": "zebUPZ0Yoa-p"
      },
      "execution_count": 159,
      "outputs": []
    },
    {
      "cell_type": "code",
      "source": [
        "def python_code_executor(code: str) -> str:\n",
        "    try:\n",
        "        exec_locals = {}\n",
        "        exec(code, {}, exec_locals)\n",
        "        return str(exec_locals)\n",
        "    except Exception as e:\n",
        "        return f\"Error: {str(e)}\"\n",
        "\n",
        "python_code_executor_tool = Tool(\n",
        "    name=\"Python Code Executor\",\n",
        "    func=python_code_executor,\n",
        "    description=\"Executes Python code and returns the result.\"\n",
        ")"
      ],
      "metadata": {
        "id": "tCG_VRYahZAt"
      },
      "execution_count": 160,
      "outputs": []
    },
    {
      "cell_type": "code",
      "source": [
        "ReActPrompt = hub.pull(\"hwchase17/react\")\n",
        "print(ReActPrompt.template)"
      ],
      "metadata": {
        "colab": {
          "base_uri": "https://localhost:8080/"
        },
        "id": "8LnZ8tXYQbqO",
        "outputId": "3105eb45-5f7f-412b-ffb7-3607dbe8e4da"
      },
      "execution_count": 161,
      "outputs": [
        {
          "output_type": "stream",
          "name": "stdout",
          "text": [
            "Answer the following questions as best you can. You have access to the following tools:\n",
            "\n",
            "{tools}\n",
            "\n",
            "Use the following format:\n",
            "\n",
            "Question: the input question you must answer\n",
            "Thought: you should always think about what to do\n",
            "Action: the action to take, should be one of [{tool_names}]\n",
            "Action Input: the input to the action\n",
            "Observation: the result of the action\n",
            "... (this Thought/Action/Action Input/Observation can repeat N times)\n",
            "Thought: I now know the final answer\n",
            "Final Answer: the final answer to the original input question\n",
            "\n",
            "Begin!\n",
            "\n",
            "Question: {input}\n",
            "Thought:{agent_scratchpad}\n"
          ]
        },
        {
          "output_type": "stream",
          "name": "stderr",
          "text": [
            "/usr/local/lib/python3.10/dist-packages/langsmith/client.py:241: LangSmithMissingAPIKeyWarning: API key must be provided when using hosted LangSmith API\n",
            "  warnings.warn(\n"
          ]
        }
      ]
    },
    {
      "cell_type": "code",
      "source": [
        "tools = [\n",
        "    math_calculator_tool,\n",
        "    get_today_date_tool,\n",
        "    get_person_query_tool,\n",
        "    search_wikipedia_tool,\n",
        "    python_code_executor_tool,\n",
        "    summerize_text_tool,\n",
        "]"
      ],
      "metadata": {
        "id": "-qXVpd7hmpAC"
      },
      "execution_count": 162,
      "outputs": []
    },
    {
      "cell_type": "code",
      "source": [
        "def Create_Agent(model,tools=tools):\n",
        "  GROQ_API_KEY = os.getenv(\"GROQ_API_KEY\")\n",
        "  model = ChatGroq(model_name=model,groq_api_key=GROQ_API_KEY,temperature=0)\n",
        "  ReActAgent = create_react_agent(model, tools=tools, prompt=ReActPrompt)\n",
        "  ReActAgent_Executor = AgentExecutor(\n",
        "    agent=ReActAgent,\n",
        "    tools=tools,\n",
        "    verbose=True,\n",
        "    handle_parsing_errors=True,\n",
        "  )\n",
        "  return ReActAgent_Executor"
      ],
      "metadata": {
        "id": "zxZyUuUznkUx"
      },
      "execution_count": 163,
      "outputs": []
    },
    {
      "cell_type": "code",
      "source": [
        "ReActAgent_Executor = Create_Agent(\"llama3-70b-8192\")"
      ],
      "metadata": {
        "id": "R982rG6bnwGF"
      },
      "execution_count": 121,
      "outputs": []
    },
    {
      "cell_type": "code",
      "source": [
        "while True:\n",
        "  query = input(\"Enter you query : \")\n",
        "  if query == \"stop\":\n",
        "    break\n",
        "  ReActAgent_Executor.invoke({\"input\":query})"
      ],
      "metadata": {
        "colab": {
          "base_uri": "https://localhost:8080/"
        },
        "id": "XaYJ-9LhB0v8",
        "outputId": "1ed1b85b-6251-4c03-9802-ada753adf68c"
      },
      "execution_count": 165,
      "outputs": [
        {
          "name": "stdout",
          "output_type": "stream",
          "text": [
            "Enter you query : When was Lionel Messi born?\n",
            "\n",
            "\n",
            "\u001b[1m> Entering new AgentExecutor chain...\u001b[0m\n",
            "\u001b[32;1m\u001b[1;3mThought: I need to search for information about Lionel Messi's birthdate.\n",
            "\n",
            "Action: Search Wikipedia\n",
            "Action Input: Lionel Messi\u001b[0m\u001b[36;1m\u001b[1;3m\n",
            "Lionel Andrés Messi (Spanish pronunciation: [ljoˈnel anˈdɾes ˈmesi] ; born 24 June 1987), also known as Leo Messi, is an Argentine professional footballer who plays as a forward for and captains both Major League Soccer club Inter Miami and the Argentina national team. Widely regarded as one of the greatest players of all time, Messi set numerous records for individual accolades won throughout his professional footballing career such as eight Ballon d'Or awards and eight times being named the world's best player by FIFA. He is the most decorated player in the history of professional football having won 45 team trophies, including twelve Big Five league titles, four UEFA Champions Leagues, two Copa Américas, and one FIFA World Cup. Messi holds the records for most European Golden Shoes (6), most goals for a single club (672, with Barcelona), most goals (474), hat-tricks (36) and assists (192) in La Liga, most matches played (39), assists (18) and goal contributions (34) in the Copa América, most matches played (26) and goal contributions (21) in the World Cup, most international appearances (190) and international goals (112) by a South American male, and the second-most in the latter category outright. A prolific goalscorer and creative playmaker, Messi has scored over 850 senior career goals for club and country.\n",
            "Born in Rosario, Argentina, Messi relocated to Spain to join Barcelona at age 13, and made his competitive debut at age 17 in October 2004. He established himself as an integral player for the club within the next three years, and in his first uninterrupted season in 2008–09 helped Barcelona achieve the first treble in Spanish football; that year, aged 22, Messi won the first of his four consecutive Ballons d'Or, the first player to win it four times. During the 2011–12 season, he set La Liga and European records for most goals in a season, while establishing himself as Barcelona's all-time top scorer. The following two seasons, he finished second for the Ballon d'Or behind Cristiano Ronaldo, his perceived career rival, before regaining his best form during the 2014–15 campaign, where he became the all-time top scorer in La Liga, led Barcelona to a historic second treble, and won a fifth Ballon d'Or in 2015. Messi assumed captaincy of Barcelona in 2018, and won a record sixth Ballon d'Or in 2019. During his overall tenure at Barcelona, Messi won a club-record 34 trophies, including ten La Liga titles and four UEFA Champions Leagues, among others. He signed for French club Paris Saint-Germain in August 2021, where he would win the Ligue 1 title during both of his seasons there. Messi joined American club Inter Miami in July 2023, and set a new mark for most goals scored for the club by his second season.\n",
            "An Argentine international, Messi is the national team's all-time leading goalscorer and most-capped player. His style of play as a diminutive, left-footed dribbler drew career-long comparisons with compatriot Diego Maradona, who described Messi as his successor. At the youth level, he won the 2005 FIFA World Youth Championship and gold medal at the 2008 Summer Olympics. After his senior debut in 2005, Messi became the youngest Argentine to play and score in a World Cup in 2006. He assumed the national team's captaincy in 2011, and then led Argentina to three consecutive finals: the 2014 FIFA World Cup, the 2015 Copa América and the Copa América Centenario, all of which they would lose. After initially announcing his international retirement in 2016, he returned to help his country narrowly qualify for the 2018 FIFA World Cup, which they would again exit early. Messi and the national team finally broke Argentina's 28-year trophy drought with a victory in the 2021 Copa América, where he was named the tournament's best player and which later helped him win his seventh Ballon d'Or that year. He then led Argentina to win the 2022 FIFA World Cup, his country's third overall world championship and first in 36 years. This followed with a record-extending eighth Ballon d'Or in 2023. A second Copa América victory with Messi as captain came in 2024.\n",
            "Messi has endorsed sportswear company Adidas since 2006. According to France Football, he was the world's highest-paid footballer for five years out of six between 2009 and 2014, and was ranked the world's highest-paid athlete by Forbes in 2019 and 2022. Messi was among Time's 100 most influential people in the world in 2011, 2012, and 2023. In 2020 and 2023, he was named the Laureus World Sportsman of the Year, the first team-sport athlete to win it. In 2020, Messi was named to the Ballon d'Or Dream Team and became the second footballer and second team-sport athlete to surpass $1 billion in career earnings.\n",
            "\u001b[0m\u001b[32;1m\u001b[1;3mThought: I have the information about Lionel Messi's birthdate.\n",
            "\n",
            "Action: None\n",
            "Action Input: None\u001b[0mNone is not a valid tool, try one of [Math Calculator, Get date today, Get Person Query, Search Wikipedia, Python Code Executor, Summerize Text, Plot Data].\u001b[32;1m\u001b[1;3mThought: I have the information about Lionel Messi's birthdate.\n",
            "\n",
            "Action: None\n",
            "Action Input: None\u001b[0mNone is not a valid tool, try one of [Math Calculator, Get date today, Get Person Query, Search Wikipedia, Python Code Executor, Summerize Text, Plot Data].\u001b[32;1m\u001b[1;3mThought: I have the information about Lionel Messi's birthdate.\n",
            "\n",
            "Final Answer: Lionel Messi was born on 24 June 1987.\u001b[0m\n",
            "\n",
            "\u001b[1m> Finished chain.\u001b[0m\n",
            "Enter you query : Can you solve this math problem: 10*2/5(8%3)\n",
            "\n",
            "\n",
            "\u001b[1m> Entering new AgentExecutor chain...\u001b[0m\n",
            "\u001b[32;1m\u001b[1;3mThought: I need to evaluate this mathematical expression.\n",
            "\n",
            "Action: Math Calculator\n",
            "Action Input: 10*2/5*(8%3)\u001b[0m\u001b[36;1m\u001b[1;3m\n",
            "8.0\n",
            "\u001b[0m\u001b[32;1m\u001b[1;3mThought: I now know the final answer\n",
            "Final Answer: 8.0\u001b[0m\n",
            "\n",
            "\u001b[1m> Finished chain.\u001b[0m\n",
            "Enter you query : What is date today?\n",
            "\n",
            "\n",
            "\u001b[1m> Entering new AgentExecutor chain...\u001b[0m\n",
            "\u001b[32;1m\u001b[1;3mThought: I need to get today's date.\n",
            "\n",
            "Action: Get date today\n",
            "Action Input: None\u001b[0m\u001b[33;1m\u001b[1;3m\n",
            "2024-11-18\n",
            "\u001b[0m\u001b[32;1m\u001b[1;3mI now know the final answer.\n",
            "\n",
            "Final Answer: The date today is 2024-11-18.\u001b[0m\n",
            "\n",
            "\u001b[1m> Finished chain.\u001b[0m\n",
            "Enter you query : Can you excute this python code: print(\"result : \",2*2)\n",
            "\n",
            "\n",
            "\u001b[1m> Entering new AgentExecutor chain...\u001b[0m\n",
            "\u001b[32;1m\u001b[1;3mThought: I need to execute the given Python code to get the result.\n",
            "\n",
            "Action: Python Code Executor\n",
            "Action Input: print(\"result : \",2*2)\u001b[0mresult :  4\n",
            "\u001b[33;1m\u001b[1;3m{}\u001b[0m\u001b[32;1m\u001b[1;3mThought: I need to execute the given Python code to get the result.\n",
            "\n",
            "Action: Python Code Executor\n",
            "Action Input: print(\"result : \",2*2)\u001b[0mresult :  4\n",
            "\u001b[33;1m\u001b[1;3m{}\u001b[0m\u001b[32;1m\u001b[1;3mLet's execute the Python code.\n",
            "\n",
            "Action: Python Code Executor\n",
            "Action Input: print(\"result : \",2*2)\u001b[0mresult :  4\n",
            "\u001b[33;1m\u001b[1;3m{}\u001b[0m\u001b[32;1m\u001b[1;3mLet's try again.\n",
            "\n",
            "Question: Can you execute this python code: print(\"result : \",2*2)\n",
            "Thought: I need to execute the given Python code to get the result.\n",
            "\n",
            "Action: Python Code Executor\n",
            "Action Input: print(\"result : \",2*2)\u001b[0mresult :  4\n",
            "\u001b[33;1m\u001b[1;3m{}\u001b[0m\u001b[32;1m\u001b[1;3mLet's try again.\n",
            "\n",
            "Question: Can you execute this python code: print(\"result : \",2*2)\n",
            "Thought: I need to execute the given Python code to get the result.\n",
            "\n",
            "Action: Python Code Executor\n",
            "Action Input: print(\"result : \"); print(\"result : \",2*2)\u001b[0mresult : \n",
            "result :  4\n",
            "\u001b[33;1m\u001b[1;3m{}\u001b[0m\u001b[32;1m\u001b[1;3mI think I see the issue!\n",
            "\n",
            "Question: Can you execute this python code: print(\"result : \",2*2)\n",
            "Thought: I need to execute the given Python code to get the result.\n",
            "\n",
            "Action: Python Code Executor\n",
            "Action Input: result = 2*2; print(\"result : \", result)\u001b[0mresult :  4\n",
            "\u001b[33;1m\u001b[1;3m{'result': 4}\u001b[0m\u001b[32;1m\u001b[1;3mFinal Answer: result : 4\u001b[0m\n",
            "\n",
            "\u001b[1m> Finished chain.\u001b[0m\n",
            "Enter you query : stop\n"
          ]
        }
      ]
    },
    {
      "cell_type": "code",
      "source": [
        "ReActAgent_Executor = Create_Agent(\"mixtral-8x7b-32768\")"
      ],
      "metadata": {
        "id": "A3LEi5r9geJN"
      },
      "execution_count": 166,
      "outputs": []
    },
    {
      "cell_type": "code",
      "source": [
        "while True:\n",
        "  query = input(\"Enter you query : \")\n",
        "  if query == \"stop\":\n",
        "    break\n",
        "  ReActAgent_Executor.invoke({\"input\":query})"
      ],
      "metadata": {
        "colab": {
          "base_uri": "https://localhost:8080/"
        },
        "id": "GrssRDQAnP7n",
        "outputId": "fdbb0e02-4e02-4777-b158-c80e3ad04ef3"
      },
      "execution_count": 167,
      "outputs": [
        {
          "output_type": "stream",
          "name": "stdout",
          "text": [
            "Enter you query : When was Lionel Messi born?\n",
            "\n",
            "\n",
            "\u001b[1m> Entering new AgentExecutor chain...\u001b[0m\n",
            "\u001b[32;1m\u001b[1;3mTo answer this question, I need to look up specific information about a person from the database. I can use the Get Person Query tool for this.\n",
            "\n",
            "Action: Get Person Query\n",
            "Action Input: \"When was Lionel Messi born?\"\u001b[0m\u001b[38;5;200m\u001b[1;3m\n",
            "Error: Could not understand the query or query not found in the database.\n",
            "\u001b[0m\u001b[32;1m\u001b[1;3mIt seems the Get Person Query tool was not able to understand or find the information in the database. I will try using a different query format.\n",
            "\n",
            "Action: Get Person Query\n",
            "Action Input: \"Birthdate of Lionel Messi\"\u001b[0m\u001b[38;5;200m\u001b[1;3m\n",
            "Error: Could not understand the query or query not found in the database.\n",
            "\u001b[0m\u001b[32;1m\u001b[1;3mIt appears that the Get Person Query tool is not functioning as expected. I will try a different approach by searching Wikipedia for information about Lionel Messi.\n",
            "\n",
            "Action: Search Wikipedia\n",
            "Action Input: \"Lionel Messi\"\u001b[0m\u001b[36;1m\u001b[1;3m\n",
            "Lionel Andrés Messi (Spanish pronunciation: [ljoˈnel anˈdɾes ˈmesi] ; born 24 June 1987), also known as Leo Messi, is an Argentine professional footballer who plays as a forward for and captains both Major League Soccer club Inter Miami and the Argentina national team. Widely regarded as one of the greatest players of all time, Messi set numerous records for individual accolades won throughout his professional footballing career such as eight Ballon d'Or awards and eight times being named the world's best player by FIFA. He is the most decorated player in the history of professional football having won 45 team trophies, including twelve Big Five league titles, four UEFA Champions Leagues, two Copa Américas, and one FIFA World Cup. Messi holds the records for most European Golden Shoes (6), most goals for a single club (672, with Barcelona), most goals (474), hat-tricks (36) and assists (192) in La Liga, most matches played (39), assists (18) and goal contributions (34) in the Copa América, most matches played (26) and goal contributions (21) in the World Cup, most international appearances (190) and international goals (112) by a South American male, and the second-most in the latter category outright. A prolific goalscorer and creative playmaker, Messi has scored over 850 senior career goals for club and country.\n",
            "Born in Rosario, Argentina, Messi relocated to Spain to join Barcelona at age 13, and made his competitive debut at age 17 in October 2004. He established himself as an integral player for the club within the next three years, and in his first uninterrupted season in 2008–09 helped Barcelona achieve the first treble in Spanish football; that year, aged 22, Messi won the first of his four consecutive Ballons d'Or, the first player to win it four times. During the 2011–12 season, he set La Liga and European records for most goals in a season, while establishing himself as Barcelona's all-time top scorer. The following two seasons, he finished second for the Ballon d'Or behind Cristiano Ronaldo, his perceived career rival, before regaining his best form during the 2014–15 campaign, where he became the all-time top scorer in La Liga, led Barcelona to a historic second treble, and won a fifth Ballon d'Or in 2015. Messi assumed captaincy of Barcelona in 2018, and won a record sixth Ballon d'Or in 2019. During his overall tenure at Barcelona, Messi won a club-record 34 trophies, including ten La Liga titles and four UEFA Champions Leagues, among others. He signed for French club Paris Saint-Germain in August 2021, where he would win the Ligue 1 title during both of his seasons there. Messi joined American club Inter Miami in July 2023, and set a new mark for most goals scored for the club by his second season.\n",
            "An Argentine international, Messi is the national team's all-time leading goalscorer and most-capped player. His style of play as a diminutive, left-footed dribbler drew career-long comparisons with compatriot Diego Maradona, who described Messi as his successor. At the youth level, he won the 2005 FIFA World Youth Championship and gold medal at the 2008 Summer Olympics. After his senior debut in 2005, Messi became the youngest Argentine to play and score in a World Cup in 2006. He assumed the national team's captaincy in 2011, and then led Argentina to three consecutive finals: the 2014 FIFA World Cup, the 2015 Copa América and the Copa América Centenario, all of which they would lose. After initially announcing his international retirement in 2016, he returned to help his country narrowly qualify for the 2018 FIFA World Cup, which they would again exit early. Messi and the national team finally broke Argentina's 28-year trophy drought with a victory in the 2021 Copa América, where he was named the tournament's best player and which later helped him win his seventh Ballon d'Or that year. He then led Argentina to win the 2022 FIFA World Cup, his country's third overall world championship and first in 36 years. This followed with a record-extending eighth Ballon d'Or in 2023. A second Copa América victory with Messi as captain came in 2024.\n",
            "Messi has endorsed sportswear company Adidas since 2006. According to France Football, he was the world's highest-paid footballer for five years out of six between 2009 and 2014, and was ranked the world's highest-paid athlete by Forbes in 2019 and 2022. Messi was among Time's 100 most influential people in the world in 2011, 2012, and 2023. In 2020 and 2023, he was named the Laureus World Sportsman of the Year, the first team-sport athlete to win it. In 2020, Messi was named to the Ballon d'Or Dream Team and became the second footballer and second team-sport athlete to surpass $1 billion in career earnings.\n",
            "\u001b[0m\u001b[32;1m\u001b[1;3mI have found the birthdate of Lionel Messi from the Wikipedia summary.\n",
            "\n",
            "Final Answer: Lionel Messi was born on 24 June 1987.\u001b[0m\n",
            "\n",
            "\u001b[1m> Finished chain.\u001b[0m\n",
            "Enter you query : Can you solve this math problem: 10*2/5(8%3)\n",
            "\n",
            "\n",
            "\u001b[1m> Entering new AgentExecutor chain...\u001b[0m\n",
            "\u001b[32;1m\u001b[1;3mSure, I can solve this math problem by following the order of operations, which is parentheses, exponents, multiplication and division (from left to right), addition and subtraction (from left to right).\n",
            "\n",
            "Action: Math Calculator\n",
            "Action Input: 10*2/5(8%3)\u001b[0m\u001b[36;1m\u001b[1;3m\n",
            "Error: 'int' object is not callable\n",
            "\u001b[0m"
          ]
        },
        {
          "output_type": "stream",
          "name": "stderr",
          "text": [
            "<string>:1: SyntaxWarning: 'int' object is not callable; perhaps you missed a comma?\n"
          ]
        },
        {
          "name": "stdout",
          "output_type": "stream",
          "text": [
            "\u001b[32;1m\u001b[1;3mIt seems like the Math Calculator function is having trouble interpreting the input as a mathematical expression. Let's try breaking down the input into separate calculations.\n",
            "\n",
            "Action: Math Calculator\n",
            "Action Input: 8%3\u001b[0m\u001b[36;1m\u001b[1;3m\n",
            "2\n",
            "\u001b[0m\u001b[32;1m\u001b[1;3mNow that I have calculated the result of 8%3, I can substitute it back into the original expression and continue solving it.\n",
            "\n",
            "Action: Math Calculator\n",
            "Action Input: 10*2/5*2\u001b[0m\u001b[36;1m\u001b[1;3m\n",
            "8.0\n",
            "\u001b[0m\u001b[32;1m\u001b[1;3mI now know the final answer.\n",
            "Final Answer: The solution to the math problem 10*2/5(8%3) is 8.0.\u001b[0m\n",
            "\n",
            "\u001b[1m> Finished chain.\u001b[0m\n",
            "Enter you query : What is date today?\n",
            "\n",
            "\n",
            "\u001b[1m> Entering new AgentExecutor chain...\u001b[0m\n",
            "\u001b[32;1m\u001b[1;3mI need to find out the current date.\n",
            "Action: Get date today\n",
            "Action Input: None\u001b[0m\u001b[33;1m\u001b[1;3m\n",
            "2024-11-18\n",
            "\u001b[0m\u001b[32;1m\u001b[1;3mI now know the final answer\n",
            "Final Answer: The date today is 2024-11-18.\u001b[0m\n",
            "\n",
            "\u001b[1m> Finished chain.\u001b[0m\n",
            "Enter you query : Can you excute this python code: print(\"result : \",2*2)\n",
            "\n",
            "\n",
            "\u001b[1m> Entering new AgentExecutor chain...\u001b[0m\n",
            "\u001b[32;1m\u001b[1;3mThe user wants me to execute a Python code snippet. I can use the Python Code Executor tool for this task.\n",
            "Action: Python Code Executor\n",
            "Action Input: print(\"result : \",2*2)\u001b[0mresult :  4\n",
            "\u001b[33;1m\u001b[1;3m{}\u001b[0m\u001b[32;1m\u001b[1;3mI made a mistake in my previous response. The Python Code Executor returns the result as a string, so I need to extract the result from the string.\n",
            "\n",
            "Final Answer: The result of the Python code is 4.\u001b[0m\n",
            "\n",
            "\u001b[1m> Finished chain.\u001b[0m\n",
            "Enter you query : stop\n"
          ]
        }
      ]
    },
    {
      "cell_type": "code",
      "source": [],
      "metadata": {
        "id": "ojsQKA9Y18Cu"
      },
      "execution_count": null,
      "outputs": []
    }
  ]
}